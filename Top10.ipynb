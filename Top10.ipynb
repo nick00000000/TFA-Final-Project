{
 "cells": [
  {
   "cell_type": "code",
   "execution_count": null,
   "id": "77fec42e-e413-4d45-a0c3-0d09ad91833d",
   "metadata": {},
   "outputs": [],
   "source": [
    "import numpy as np\n",
    "import pandas as pd"
   ]
  },
  {
   "cell_type": "code",
   "execution_count": null,
   "id": "6602a00b-e738-4a5b-95a0-b1037491ec27",
   "metadata": {},
   "outputs": [],
   "source": [
    "df = pd.read_csv('311_Service_Requests_2020.csv')\n",
    "df"
   ]
  },
  {
   "cell_type": "code",
   "execution_count": null,
   "id": "6d21c3bc-74cf-4d72-9014-0e33d34676f4",
   "metadata": {},
   "outputs": [],
   "source": [
    "zip_code = 10019\n",
    "df_zip = df[df['Incident Zip'].values == zip_code]\n",
    "df_zip"
   ]
  },
  {
   "cell_type": "code",
   "execution_count": null,
   "id": "ceb484cf-e55a-461e-b7a2-1287f44bc6ae",
   "metadata": {},
   "outputs": [],
   "source": [
    "reason_counts = df_zip['Complaint Type'].value_counts()\n",
    "reason_counts"
   ]
  },
  {
   "cell_type": "code",
   "execution_count": null,
   "id": "16fabfdc-e870-4314-b9d6-cb1e90899375",
   "metadata": {},
   "outputs": [],
   "source": [
    "top10 = reason_counts.iloc[:10]\n",
    "top10"
   ]
  },
  {
   "cell_type": "code",
   "execution_count": null,
   "id": "a6cf62b2-74f8-4f62-87e0-58dd868b352f",
   "metadata": {},
   "outputs": [],
   "source": []
  }
 ],
 "metadata": {
  "kernelspec": {
   "display_name": "Python 3",
   "language": "python",
   "name": "python3"
  },
  "language_info": {
   "codemirror_mode": {
    "name": "ipython",
    "version": 3
   },
   "file_extension": ".py",
   "mimetype": "text/x-python",
   "name": "python",
   "nbconvert_exporter": "python",
   "pygments_lexer": "ipython3",
   "version": "3.9.0"
  }
 },
 "nbformat": 4,
 "nbformat_minor": 5
}
