{
 "cells": [
  {
   "cell_type": "code",
   "execution_count": 2,
   "id": "77fec42e-e413-4d45-a0c3-0d09ad91833d",
   "metadata": {},
   "outputs": [
    {
     "ename": "ModuleNotFoundError",
     "evalue": "No module named 'pandas'",
     "output_type": "error",
     "traceback": [
      "\u001b[1;31m---------------------------------------------------------------------------\u001b[0m",
      "\u001b[1;31mModuleNotFoundError\u001b[0m                       Traceback (most recent call last)",
      "\u001b[1;32m~\\AppData\\Local\\Temp/ipykernel_5880/971985475.py\u001b[0m in \u001b[0;36m<module>\u001b[1;34m\u001b[0m\n\u001b[1;32m----> 1\u001b[1;33m \u001b[1;32mimport\u001b[0m \u001b[0mpandas\u001b[0m \u001b[1;32mas\u001b[0m \u001b[0mpd\u001b[0m\u001b[1;33m\u001b[0m\u001b[1;33m\u001b[0m\u001b[0m\n\u001b[0m\u001b[0;32m      2\u001b[0m \u001b[1;32mimport\u001b[0m \u001b[0mnumpy\u001b[0m \u001b[1;32mas\u001b[0m \u001b[0mnp\u001b[0m\u001b[1;33m\u001b[0m\u001b[1;33m\u001b[0m\u001b[0m\n",
      "\u001b[1;31mModuleNotFoundError\u001b[0m: No module named 'pandas'"
     ]
    }
   ],
   "source": [
    "\n",
    "import pandas as pd\n",
    "import numpy as np"
   ]
  },
  {
   "cell_type": "code",
   "execution_count": null,
   "id": "6602a00b-e738-4a5b-95a0-b1037491ec27",
   "metadata": {},
   "outputs": [],
   "source": [
    "df = pd.read_csv('311_Service_Requests_2020.csv')\n",
    "df"
   ]
  },
  {
   "cell_type": "code",
   "execution_count": null,
   "id": "6d21c3bc-74cf-4d72-9014-0e33d34676f4",
   "metadata": {},
   "outputs": [],
   "source": [
    "zip_code = 10019\n",
    "df_zip = df[df['Incident Zip'].values == zip_code]\n",
    "df_zip"
   ]
  },
  {
   "cell_type": "code",
   "execution_count": null,
   "id": "ceb484cf-e55a-461e-b7a2-1287f44bc6ae",
   "metadata": {},
   "outputs": [],
   "source": [
    "reason_counts = df_zip['Complaint Type'].value_counts()\n",
    "reason_counts"
   ]
  },
  {
   "cell_type": "code",
   "execution_count": null,
   "id": "16fabfdc-e870-4314-b9d6-cb1e90899375",
   "metadata": {},
   "outputs": [],
   "source": [
    "top10 = reason_counts.iloc[:10]\n",
    "top10"
   ]
  },
  {
   "cell_type": "code",
   "execution_count": null,
   "id": "a6cf62b2-74f8-4f62-87e0-58dd868b352f",
   "metadata": {},
   "outputs": [],
   "source": []
  }
 ],
 "metadata": {
  "kernelspec": {
   "display_name": "Python 3",
   "language": "python",
   "name": "python3"
  },
  "language_info": {
   "codemirror_mode": {
    "name": "ipython",
    "version": 3
   },
   "file_extension": ".py",
   "mimetype": "text/x-python",
   "name": "python",
   "nbconvert_exporter": "python",
   "pygments_lexer": "ipython3",
   "version": "3.9.0"
  }
 },
 "nbformat": 4,
 "nbformat_minor": 5
}
